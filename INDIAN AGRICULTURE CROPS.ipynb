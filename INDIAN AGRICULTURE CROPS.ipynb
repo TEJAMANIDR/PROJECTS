{
 "cells": [
  {
   "cell_type": "code",
   "execution_count": 66,
   "id": "924a9d1d",
   "metadata": {},
   "outputs": [],
   "source": [
    "import pandas as pd"
   ]
  },
  {
   "cell_type": "code",
   "execution_count": 67,
   "id": "e6aa5aff",
   "metadata": {},
   "outputs": [],
   "source": [
    "df = pd.read_csv(\"Downloads\\India Agriculture Crop Production.csv\")"
   ]
  },
  {
   "cell_type": "code",
   "execution_count": 68,
   "id": "327d7eb6",
   "metadata": {
    "scrolled": false
   },
   "outputs": [
    {
     "data": {
      "text/html": [
       "<div>\n",
       "<style scoped>\n",
       "    .dataframe tbody tr th:only-of-type {\n",
       "        vertical-align: middle;\n",
       "    }\n",
       "\n",
       "    .dataframe tbody tr th {\n",
       "        vertical-align: top;\n",
       "    }\n",
       "\n",
       "    .dataframe thead th {\n",
       "        text-align: right;\n",
       "    }\n",
       "</style>\n",
       "<table border=\"1\" class=\"dataframe\">\n",
       "  <thead>\n",
       "    <tr style=\"text-align: right;\">\n",
       "      <th></th>\n",
       "      <th>State</th>\n",
       "      <th>District</th>\n",
       "      <th>Crop</th>\n",
       "      <th>Year</th>\n",
       "      <th>Season</th>\n",
       "      <th>Area</th>\n",
       "      <th>Area Units</th>\n",
       "      <th>Production</th>\n",
       "      <th>Production Units</th>\n",
       "      <th>Yield</th>\n",
       "    </tr>\n",
       "  </thead>\n",
       "  <tbody>\n",
       "    <tr>\n",
       "      <th>0</th>\n",
       "      <td>Andaman and Nicobar Islands</td>\n",
       "      <td>NICOBARS</td>\n",
       "      <td>Arecanut</td>\n",
       "      <td>2001-02</td>\n",
       "      <td>Kharif</td>\n",
       "      <td>1254.0</td>\n",
       "      <td>Hectare</td>\n",
       "      <td>2061.0</td>\n",
       "      <td>Tonnes</td>\n",
       "      <td>1.643541</td>\n",
       "    </tr>\n",
       "    <tr>\n",
       "      <th>1</th>\n",
       "      <td>Andaman and Nicobar Islands</td>\n",
       "      <td>NICOBARS</td>\n",
       "      <td>Arecanut</td>\n",
       "      <td>2002-03</td>\n",
       "      <td>Whole Year</td>\n",
       "      <td>1258.0</td>\n",
       "      <td>Hectare</td>\n",
       "      <td>2083.0</td>\n",
       "      <td>Tonnes</td>\n",
       "      <td>1.655803</td>\n",
       "    </tr>\n",
       "    <tr>\n",
       "      <th>2</th>\n",
       "      <td>Andaman and Nicobar Islands</td>\n",
       "      <td>NICOBARS</td>\n",
       "      <td>Arecanut</td>\n",
       "      <td>2003-04</td>\n",
       "      <td>Whole Year</td>\n",
       "      <td>1261.0</td>\n",
       "      <td>Hectare</td>\n",
       "      <td>1525.0</td>\n",
       "      <td>Tonnes</td>\n",
       "      <td>1.209358</td>\n",
       "    </tr>\n",
       "    <tr>\n",
       "      <th>3</th>\n",
       "      <td>Andaman and Nicobar Islands</td>\n",
       "      <td>NORTH AND MIDDLE ANDAMAN</td>\n",
       "      <td>Arecanut</td>\n",
       "      <td>2001-02</td>\n",
       "      <td>Kharif</td>\n",
       "      <td>3100.0</td>\n",
       "      <td>Hectare</td>\n",
       "      <td>5239.0</td>\n",
       "      <td>Tonnes</td>\n",
       "      <td>1.690000</td>\n",
       "    </tr>\n",
       "    <tr>\n",
       "      <th>4</th>\n",
       "      <td>Andaman and Nicobar Islands</td>\n",
       "      <td>SOUTH ANDAMANS</td>\n",
       "      <td>Arecanut</td>\n",
       "      <td>2002-03</td>\n",
       "      <td>Whole Year</td>\n",
       "      <td>3105.0</td>\n",
       "      <td>Hectare</td>\n",
       "      <td>5267.0</td>\n",
       "      <td>Tonnes</td>\n",
       "      <td>1.696296</td>\n",
       "    </tr>\n",
       "    <tr>\n",
       "      <th>5</th>\n",
       "      <td>Andaman and Nicobar Islands</td>\n",
       "      <td>SOUTH ANDAMANS</td>\n",
       "      <td>Arecanut</td>\n",
       "      <td>2003-04</td>\n",
       "      <td>Whole Year</td>\n",
       "      <td>3118.0</td>\n",
       "      <td>Hectare</td>\n",
       "      <td>5182.0</td>\n",
       "      <td>Tonnes</td>\n",
       "      <td>1.661963</td>\n",
       "    </tr>\n",
       "    <tr>\n",
       "      <th>6</th>\n",
       "      <td>Andaman and Nicobar Islands</td>\n",
       "      <td>NICOBARS</td>\n",
       "      <td>Banana</td>\n",
       "      <td>2002-03</td>\n",
       "      <td>Whole Year</td>\n",
       "      <td>213.0</td>\n",
       "      <td>Hectare</td>\n",
       "      <td>1278.0</td>\n",
       "      <td>Tonnes</td>\n",
       "      <td>6.000000</td>\n",
       "    </tr>\n",
       "    <tr>\n",
       "      <th>7</th>\n",
       "      <td>Andaman and Nicobar Islands</td>\n",
       "      <td>NICOBARS</td>\n",
       "      <td>Banana</td>\n",
       "      <td>2003-04</td>\n",
       "      <td>Whole Year</td>\n",
       "      <td>266.0</td>\n",
       "      <td>Hectare</td>\n",
       "      <td>1763.0</td>\n",
       "      <td>Tonnes</td>\n",
       "      <td>6.627820</td>\n",
       "    </tr>\n",
       "    <tr>\n",
       "      <th>8</th>\n",
       "      <td>Andaman and Nicobar Islands</td>\n",
       "      <td>SOUTH ANDAMANS</td>\n",
       "      <td>Banana</td>\n",
       "      <td>2002-03</td>\n",
       "      <td>Whole Year</td>\n",
       "      <td>1524.0</td>\n",
       "      <td>Hectare</td>\n",
       "      <td>10882.0</td>\n",
       "      <td>Tonnes</td>\n",
       "      <td>7.140420</td>\n",
       "    </tr>\n",
       "    <tr>\n",
       "      <th>9</th>\n",
       "      <td>Andaman and Nicobar Islands</td>\n",
       "      <td>SOUTH ANDAMANS</td>\n",
       "      <td>Banana</td>\n",
       "      <td>2003-04</td>\n",
       "      <td>Whole Year</td>\n",
       "      <td>1530.0</td>\n",
       "      <td>Hectare</td>\n",
       "      <td>11558.0</td>\n",
       "      <td>Tonnes</td>\n",
       "      <td>7.554248</td>\n",
       "    </tr>\n",
       "  </tbody>\n",
       "</table>\n",
       "</div>"
      ],
      "text/plain": [
       "                         State                  District      Crop     Year  \\\n",
       "0  Andaman and Nicobar Islands                  NICOBARS  Arecanut  2001-02   \n",
       "1  Andaman and Nicobar Islands                  NICOBARS  Arecanut  2002-03   \n",
       "2  Andaman and Nicobar Islands                  NICOBARS  Arecanut  2003-04   \n",
       "3  Andaman and Nicobar Islands  NORTH AND MIDDLE ANDAMAN  Arecanut  2001-02   \n",
       "4  Andaman and Nicobar Islands            SOUTH ANDAMANS  Arecanut  2002-03   \n",
       "5  Andaman and Nicobar Islands            SOUTH ANDAMANS  Arecanut  2003-04   \n",
       "6  Andaman and Nicobar Islands                  NICOBARS    Banana  2002-03   \n",
       "7  Andaman and Nicobar Islands                  NICOBARS    Banana  2003-04   \n",
       "8  Andaman and Nicobar Islands            SOUTH ANDAMANS    Banana  2002-03   \n",
       "9  Andaman and Nicobar Islands            SOUTH ANDAMANS    Banana  2003-04   \n",
       "\n",
       "       Season    Area Area Units  Production Production Units     Yield  \n",
       "0      Kharif  1254.0    Hectare      2061.0           Tonnes  1.643541  \n",
       "1  Whole Year  1258.0    Hectare      2083.0           Tonnes  1.655803  \n",
       "2  Whole Year  1261.0    Hectare      1525.0           Tonnes  1.209358  \n",
       "3      Kharif  3100.0    Hectare      5239.0           Tonnes  1.690000  \n",
       "4  Whole Year  3105.0    Hectare      5267.0           Tonnes  1.696296  \n",
       "5  Whole Year  3118.0    Hectare      5182.0           Tonnes  1.661963  \n",
       "6  Whole Year   213.0    Hectare      1278.0           Tonnes  6.000000  \n",
       "7  Whole Year   266.0    Hectare      1763.0           Tonnes  6.627820  \n",
       "8  Whole Year  1524.0    Hectare     10882.0           Tonnes  7.140420  \n",
       "9  Whole Year  1530.0    Hectare     11558.0           Tonnes  7.554248  "
      ]
     },
     "execution_count": 68,
     "metadata": {},
     "output_type": "execute_result"
    }
   ],
   "source": [
    "df.head(10)"
   ]
  },
  {
   "cell_type": "code",
   "execution_count": 69,
   "id": "9f627e1d",
   "metadata": {},
   "outputs": [
    {
     "data": {
      "text/plain": [
       "State                object\n",
       "District             object\n",
       "Crop                 object\n",
       "Year                 object\n",
       "Season               object\n",
       "Area                float64\n",
       "Area Units           object\n",
       "Production          float64\n",
       "Production Units     object\n",
       "Yield               float64\n",
       "dtype: object"
      ]
     },
     "execution_count": 69,
     "metadata": {},
     "output_type": "execute_result"
    }
   ],
   "source": [
    "df.dtypes"
   ]
  },
  {
   "cell_type": "code",
   "execution_count": 71,
   "id": "e77d08c2",
   "metadata": {},
   "outputs": [
    {
     "data": {
      "text/html": [
       "<div>\n",
       "<style scoped>\n",
       "    .dataframe tbody tr th:only-of-type {\n",
       "        vertical-align: middle;\n",
       "    }\n",
       "\n",
       "    .dataframe tbody tr th {\n",
       "        vertical-align: top;\n",
       "    }\n",
       "\n",
       "    .dataframe thead th {\n",
       "        text-align: right;\n",
       "    }\n",
       "</style>\n",
       "<table border=\"1\" class=\"dataframe\">\n",
       "  <thead>\n",
       "    <tr style=\"text-align: right;\">\n",
       "      <th></th>\n",
       "      <th>State</th>\n",
       "      <th>District</th>\n",
       "      <th>Crop</th>\n",
       "      <th>Year</th>\n",
       "      <th>Season</th>\n",
       "      <th>Area</th>\n",
       "      <th>Area Units</th>\n",
       "      <th>Production</th>\n",
       "      <th>Production Units</th>\n",
       "      <th>Yield</th>\n",
       "    </tr>\n",
       "  </thead>\n",
       "  <tbody>\n",
       "    <tr>\n",
       "      <th>count</th>\n",
       "      <td>345407</td>\n",
       "      <td>345407</td>\n",
       "      <td>345375</td>\n",
       "      <td>345407</td>\n",
       "      <td>345406</td>\n",
       "      <td>3.453740e+05</td>\n",
       "      <td>345407</td>\n",
       "      <td>3.404140e+05</td>\n",
       "      <td>345407</td>\n",
       "      <td>345374.000000</td>\n",
       "    </tr>\n",
       "    <tr>\n",
       "      <th>unique</th>\n",
       "      <td>36</td>\n",
       "      <td>729</td>\n",
       "      <td>56</td>\n",
       "      <td>24</td>\n",
       "      <td>6</td>\n",
       "      <td>NaN</td>\n",
       "      <td>1</td>\n",
       "      <td>NaN</td>\n",
       "      <td>3</td>\n",
       "      <td>NaN</td>\n",
       "    </tr>\n",
       "    <tr>\n",
       "      <th>top</th>\n",
       "      <td>Uttar Pradesh</td>\n",
       "      <td>BILASPUR</td>\n",
       "      <td>Rice</td>\n",
       "      <td>2019-20</td>\n",
       "      <td>Kharif</td>\n",
       "      <td>NaN</td>\n",
       "      <td>Hectare</td>\n",
       "      <td>NaN</td>\n",
       "      <td>Tonnes</td>\n",
       "      <td>NaN</td>\n",
       "    </tr>\n",
       "    <tr>\n",
       "      <th>freq</th>\n",
       "      <td>44781</td>\n",
       "      <td>1244</td>\n",
       "      <td>21611</td>\n",
       "      <td>19296</td>\n",
       "      <td>138400</td>\n",
       "      <td>NaN</td>\n",
       "      <td>345407</td>\n",
       "      <td>NaN</td>\n",
       "      <td>331686</td>\n",
       "      <td>NaN</td>\n",
       "    </tr>\n",
       "    <tr>\n",
       "      <th>mean</th>\n",
       "      <td>NaN</td>\n",
       "      <td>NaN</td>\n",
       "      <td>NaN</td>\n",
       "      <td>NaN</td>\n",
       "      <td>NaN</td>\n",
       "      <td>1.167019e+04</td>\n",
       "      <td>NaN</td>\n",
       "      <td>9.583711e+05</td>\n",
       "      <td>NaN</td>\n",
       "      <td>79.407569</td>\n",
       "    </tr>\n",
       "    <tr>\n",
       "      <th>std</th>\n",
       "      <td>NaN</td>\n",
       "      <td>NaN</td>\n",
       "      <td>NaN</td>\n",
       "      <td>NaN</td>\n",
       "      <td>NaN</td>\n",
       "      <td>4.583843e+04</td>\n",
       "      <td>NaN</td>\n",
       "      <td>2.152986e+07</td>\n",
       "      <td>NaN</td>\n",
       "      <td>916.628744</td>\n",
       "    </tr>\n",
       "    <tr>\n",
       "      <th>min</th>\n",
       "      <td>NaN</td>\n",
       "      <td>NaN</td>\n",
       "      <td>NaN</td>\n",
       "      <td>NaN</td>\n",
       "      <td>NaN</td>\n",
       "      <td>4.000000e-03</td>\n",
       "      <td>NaN</td>\n",
       "      <td>0.000000e+00</td>\n",
       "      <td>NaN</td>\n",
       "      <td>0.000000</td>\n",
       "    </tr>\n",
       "    <tr>\n",
       "      <th>25%</th>\n",
       "      <td>NaN</td>\n",
       "      <td>NaN</td>\n",
       "      <td>NaN</td>\n",
       "      <td>NaN</td>\n",
       "      <td>NaN</td>\n",
       "      <td>7.400000e+01</td>\n",
       "      <td>NaN</td>\n",
       "      <td>8.700000e+01</td>\n",
       "      <td>NaN</td>\n",
       "      <td>0.546742</td>\n",
       "    </tr>\n",
       "    <tr>\n",
       "      <th>50%</th>\n",
       "      <td>NaN</td>\n",
       "      <td>NaN</td>\n",
       "      <td>NaN</td>\n",
       "      <td>NaN</td>\n",
       "      <td>NaN</td>\n",
       "      <td>5.320000e+02</td>\n",
       "      <td>NaN</td>\n",
       "      <td>7.170000e+02</td>\n",
       "      <td>NaN</td>\n",
       "      <td>1.000000</td>\n",
       "    </tr>\n",
       "    <tr>\n",
       "      <th>75%</th>\n",
       "      <td>NaN</td>\n",
       "      <td>NaN</td>\n",
       "      <td>NaN</td>\n",
       "      <td>NaN</td>\n",
       "      <td>NaN</td>\n",
       "      <td>4.110000e+03</td>\n",
       "      <td>NaN</td>\n",
       "      <td>7.176000e+03</td>\n",
       "      <td>NaN</td>\n",
       "      <td>2.467080</td>\n",
       "    </tr>\n",
       "    <tr>\n",
       "      <th>max</th>\n",
       "      <td>NaN</td>\n",
       "      <td>NaN</td>\n",
       "      <td>NaN</td>\n",
       "      <td>NaN</td>\n",
       "      <td>NaN</td>\n",
       "      <td>8.580100e+06</td>\n",
       "      <td>NaN</td>\n",
       "      <td>1.597800e+09</td>\n",
       "      <td>NaN</td>\n",
       "      <td>43958.333333</td>\n",
       "    </tr>\n",
       "  </tbody>\n",
       "</table>\n",
       "</div>"
      ],
      "text/plain": [
       "                State  District    Crop     Year  Season          Area  \\\n",
       "count          345407    345407  345375   345407  345406  3.453740e+05   \n",
       "unique             36       729      56       24       6           NaN   \n",
       "top     Uttar Pradesh  BILASPUR    Rice  2019-20  Kharif           NaN   \n",
       "freq            44781      1244   21611    19296  138400           NaN   \n",
       "mean              NaN       NaN     NaN      NaN     NaN  1.167019e+04   \n",
       "std               NaN       NaN     NaN      NaN     NaN  4.583843e+04   \n",
       "min               NaN       NaN     NaN      NaN     NaN  4.000000e-03   \n",
       "25%               NaN       NaN     NaN      NaN     NaN  7.400000e+01   \n",
       "50%               NaN       NaN     NaN      NaN     NaN  5.320000e+02   \n",
       "75%               NaN       NaN     NaN      NaN     NaN  4.110000e+03   \n",
       "max               NaN       NaN     NaN      NaN     NaN  8.580100e+06   \n",
       "\n",
       "       Area Units    Production Production Units          Yield  \n",
       "count      345407  3.404140e+05           345407  345374.000000  \n",
       "unique          1           NaN                3            NaN  \n",
       "top       Hectare           NaN           Tonnes            NaN  \n",
       "freq       345407           NaN           331686            NaN  \n",
       "mean          NaN  9.583711e+05              NaN      79.407569  \n",
       "std           NaN  2.152986e+07              NaN     916.628744  \n",
       "min           NaN  0.000000e+00              NaN       0.000000  \n",
       "25%           NaN  8.700000e+01              NaN       0.546742  \n",
       "50%           NaN  7.170000e+02              NaN       1.000000  \n",
       "75%           NaN  7.176000e+03              NaN       2.467080  \n",
       "max           NaN  1.597800e+09              NaN   43958.333333  "
      ]
     },
     "execution_count": 71,
     "metadata": {},
     "output_type": "execute_result"
    }
   ],
   "source": [
    "df.describe(include = 'all')"
   ]
  },
  {
   "cell_type": "code",
   "execution_count": 72,
   "id": "3a298e8b",
   "metadata": {},
   "outputs": [
    {
     "data": {
      "text/plain": [
       "State                  0\n",
       "District               0\n",
       "Crop                  32\n",
       "Year                   0\n",
       "Season                 1\n",
       "Area                  33\n",
       "Area Units             0\n",
       "Production          4993\n",
       "Production Units       0\n",
       "Yield                 33\n",
       "dtype: int64"
      ]
     },
     "execution_count": 72,
     "metadata": {},
     "output_type": "execute_result"
    }
   ],
   "source": [
    "df.isna().sum()"
   ]
  },
  {
   "cell_type": "code",
   "execution_count": 74,
   "id": "b482c632",
   "metadata": {},
   "outputs": [],
   "source": [
    "df_filtered = df.dropna()"
   ]
  },
  {
   "cell_type": "code",
   "execution_count": 75,
   "id": "a5b7af9c",
   "metadata": {},
   "outputs": [
    {
     "data": {
      "text/plain": [
       "State               0\n",
       "District            0\n",
       "Crop                0\n",
       "Year                0\n",
       "Season              0\n",
       "Area                0\n",
       "Area Units          0\n",
       "Production          0\n",
       "Production Units    0\n",
       "Yield               0\n",
       "dtype: int64"
      ]
     },
     "execution_count": 75,
     "metadata": {},
     "output_type": "execute_result"
    }
   ],
   "source": [
    "df_filtered.isna().sum()"
   ]
  },
  {
   "cell_type": "code",
   "execution_count": 60,
   "id": "4c08e2d5",
   "metadata": {},
   "outputs": [
    {
     "name": "stdout",
     "output_type": "stream",
     "text": [
      "\n",
      "Mean Production: 958371.1486639853\n",
      "Median Production: 769.0\n",
      "Mode Production: 1.0\n"
     ]
    }
   ],
   "source": [
    "# Calculate Mean\n",
    "mean_Production = df['Production'].mean()\n",
    "\n",
    "# Calculate Median\n",
    "median_Production = df['Production'].median()\n",
    "\n",
    "# Calculate Mode\n",
    "mode_Production = df['Production'].mode()\n",
    "\n",
    "print(f\"\\nMean Production: {mean_Production}\")\n",
    "print(f\"Median Production: {median_Production}\")\n",
    "print(f\"Mode Production: {mode_Production.values[0]}\")\n"
   ]
  },
  {
   "cell_type": "code",
   "execution_count": null,
   "id": "a611cdcf",
   "metadata": {},
   "outputs": [],
   "source": []
  },
  {
   "cell_type": "code",
   "execution_count": 61,
   "id": "056223f3",
   "metadata": {},
   "outputs": [],
   "source": [
    "conversion_to_tonnes = {\n",
    "    'Tonnes':1,\n",
    "    'Bales':0.25,\n",
    "    'Nuts':0.0005\n",
    "}\n",
    "df['Production_Tonnes'] = df.apply(\n",
    "    lambda row:row['Production']*conversion_to_tonnes[row['Production Units']] \n",
    "    if row['Production Units'] in conversion_to_tonnes else row['Production'],\n",
    "    axis=1\n",
    ")"
   ]
  },
  {
   "cell_type": "code",
   "execution_count": 62,
   "id": "498aa14b",
   "metadata": {},
   "outputs": [
    {
     "data": {
      "text/html": [
       "<div>\n",
       "<style scoped>\n",
       "    .dataframe tbody tr th:only-of-type {\n",
       "        vertical-align: middle;\n",
       "    }\n",
       "\n",
       "    .dataframe tbody tr th {\n",
       "        vertical-align: top;\n",
       "    }\n",
       "\n",
       "    .dataframe thead th {\n",
       "        text-align: right;\n",
       "    }\n",
       "</style>\n",
       "<table border=\"1\" class=\"dataframe\">\n",
       "  <thead>\n",
       "    <tr style=\"text-align: right;\">\n",
       "      <th></th>\n",
       "      <th>State</th>\n",
       "      <th>District</th>\n",
       "      <th>Crop</th>\n",
       "      <th>Year</th>\n",
       "      <th>Season</th>\n",
       "      <th>Area</th>\n",
       "      <th>Area Units</th>\n",
       "      <th>Production</th>\n",
       "      <th>Production Units</th>\n",
       "      <th>Yield</th>\n",
       "      <th>Production_Tonnes</th>\n",
       "    </tr>\n",
       "  </thead>\n",
       "  <tbody>\n",
       "    <tr>\n",
       "      <th>0</th>\n",
       "      <td>Andaman and Nicobar Islands</td>\n",
       "      <td>NICOBARS</td>\n",
       "      <td>Arecanut</td>\n",
       "      <td>2001-02</td>\n",
       "      <td>Kharif</td>\n",
       "      <td>1254.000000</td>\n",
       "      <td>Hectare</td>\n",
       "      <td>2061.000000</td>\n",
       "      <td>Tonnes</td>\n",
       "      <td>1.643541</td>\n",
       "      <td>2061.000000</td>\n",
       "    </tr>\n",
       "    <tr>\n",
       "      <th>1</th>\n",
       "      <td>Andaman and Nicobar Islands</td>\n",
       "      <td>NICOBARS</td>\n",
       "      <td>Arecanut</td>\n",
       "      <td>2002-03</td>\n",
       "      <td>Whole Year</td>\n",
       "      <td>1258.000000</td>\n",
       "      <td>Hectare</td>\n",
       "      <td>2083.000000</td>\n",
       "      <td>Tonnes</td>\n",
       "      <td>1.655803</td>\n",
       "      <td>2083.000000</td>\n",
       "    </tr>\n",
       "    <tr>\n",
       "      <th>2</th>\n",
       "      <td>Andaman and Nicobar Islands</td>\n",
       "      <td>NICOBARS</td>\n",
       "      <td>Arecanut</td>\n",
       "      <td>2003-04</td>\n",
       "      <td>Whole Year</td>\n",
       "      <td>1261.000000</td>\n",
       "      <td>Hectare</td>\n",
       "      <td>1525.000000</td>\n",
       "      <td>Tonnes</td>\n",
       "      <td>1.209358</td>\n",
       "      <td>1525.000000</td>\n",
       "    </tr>\n",
       "    <tr>\n",
       "      <th>3</th>\n",
       "      <td>Andaman and Nicobar Islands</td>\n",
       "      <td>NORTH AND MIDDLE ANDAMAN</td>\n",
       "      <td>Arecanut</td>\n",
       "      <td>2001-02</td>\n",
       "      <td>Kharif</td>\n",
       "      <td>3100.000000</td>\n",
       "      <td>Hectare</td>\n",
       "      <td>5239.000000</td>\n",
       "      <td>Tonnes</td>\n",
       "      <td>1.690000</td>\n",
       "      <td>5239.000000</td>\n",
       "    </tr>\n",
       "    <tr>\n",
       "      <th>4</th>\n",
       "      <td>Andaman and Nicobar Islands</td>\n",
       "      <td>SOUTH ANDAMANS</td>\n",
       "      <td>Arecanut</td>\n",
       "      <td>2002-03</td>\n",
       "      <td>Whole Year</td>\n",
       "      <td>3105.000000</td>\n",
       "      <td>Hectare</td>\n",
       "      <td>5267.000000</td>\n",
       "      <td>Tonnes</td>\n",
       "      <td>1.696296</td>\n",
       "      <td>5267.000000</td>\n",
       "    </tr>\n",
       "    <tr>\n",
       "      <th>...</th>\n",
       "      <td>...</td>\n",
       "      <td>...</td>\n",
       "      <td>...</td>\n",
       "      <td>...</td>\n",
       "      <td>...</td>\n",
       "      <td>...</td>\n",
       "      <td>...</td>\n",
       "      <td>...</td>\n",
       "      <td>...</td>\n",
       "      <td>...</td>\n",
       "      <td>...</td>\n",
       "    </tr>\n",
       "    <tr>\n",
       "      <th>345402</th>\n",
       "      <td>Manipur</td>\n",
       "      <td>IMPHAL WEST</td>\n",
       "      <td>Unkownn</td>\n",
       "      <td>2019-20</td>\n",
       "      <td>Rabi</td>\n",
       "      <td>11670.191258</td>\n",
       "      <td>Hectare</td>\n",
       "      <td>958371.148664</td>\n",
       "      <td>Tonnes</td>\n",
       "      <td>79.407569</td>\n",
       "      <td>958371.148664</td>\n",
       "    </tr>\n",
       "    <tr>\n",
       "      <th>345403</th>\n",
       "      <td>Manipur</td>\n",
       "      <td>SENAPATI</td>\n",
       "      <td>Unkownn</td>\n",
       "      <td>2019-20</td>\n",
       "      <td>Rabi</td>\n",
       "      <td>11670.191258</td>\n",
       "      <td>Hectare</td>\n",
       "      <td>958371.148664</td>\n",
       "      <td>Tonnes</td>\n",
       "      <td>79.407569</td>\n",
       "      <td>958371.148664</td>\n",
       "    </tr>\n",
       "    <tr>\n",
       "      <th>345404</th>\n",
       "      <td>Manipur</td>\n",
       "      <td>TAMENGLONG</td>\n",
       "      <td>Unkownn</td>\n",
       "      <td>2019-20</td>\n",
       "      <td>Rabi</td>\n",
       "      <td>11670.191258</td>\n",
       "      <td>Hectare</td>\n",
       "      <td>958371.148664</td>\n",
       "      <td>Tonnes</td>\n",
       "      <td>79.407569</td>\n",
       "      <td>958371.148664</td>\n",
       "    </tr>\n",
       "    <tr>\n",
       "      <th>345405</th>\n",
       "      <td>Manipur</td>\n",
       "      <td>THOUBAL</td>\n",
       "      <td>Unkownn</td>\n",
       "      <td>2019-20</td>\n",
       "      <td>Rabi</td>\n",
       "      <td>11670.191258</td>\n",
       "      <td>Hectare</td>\n",
       "      <td>958371.148664</td>\n",
       "      <td>Tonnes</td>\n",
       "      <td>79.407569</td>\n",
       "      <td>958371.148664</td>\n",
       "    </tr>\n",
       "    <tr>\n",
       "      <th>345406</th>\n",
       "      <td>Manipur</td>\n",
       "      <td>UKHRUL</td>\n",
       "      <td>Unkownn</td>\n",
       "      <td>2019-20</td>\n",
       "      <td>Rabi</td>\n",
       "      <td>11670.191258</td>\n",
       "      <td>Hectare</td>\n",
       "      <td>958371.148664</td>\n",
       "      <td>Tonnes</td>\n",
       "      <td>79.407569</td>\n",
       "      <td>958371.148664</td>\n",
       "    </tr>\n",
       "  </tbody>\n",
       "</table>\n",
       "<p>345407 rows × 11 columns</p>\n",
       "</div>"
      ],
      "text/plain": [
       "                              State                  District      Crop  \\\n",
       "0       Andaman and Nicobar Islands                  NICOBARS  Arecanut   \n",
       "1       Andaman and Nicobar Islands                  NICOBARS  Arecanut   \n",
       "2       Andaman and Nicobar Islands                  NICOBARS  Arecanut   \n",
       "3       Andaman and Nicobar Islands  NORTH AND MIDDLE ANDAMAN  Arecanut   \n",
       "4       Andaman and Nicobar Islands            SOUTH ANDAMANS  Arecanut   \n",
       "...                             ...                       ...       ...   \n",
       "345402                      Manipur               IMPHAL WEST   Unkownn   \n",
       "345403                      Manipur                  SENAPATI   Unkownn   \n",
       "345404                      Manipur                TAMENGLONG   Unkownn   \n",
       "345405                      Manipur                   THOUBAL   Unkownn   \n",
       "345406                      Manipur                    UKHRUL   Unkownn   \n",
       "\n",
       "           Year      Season          Area Area Units     Production  \\\n",
       "0       2001-02      Kharif   1254.000000    Hectare    2061.000000   \n",
       "1       2002-03  Whole Year   1258.000000    Hectare    2083.000000   \n",
       "2       2003-04  Whole Year   1261.000000    Hectare    1525.000000   \n",
       "3       2001-02      Kharif   3100.000000    Hectare    5239.000000   \n",
       "4       2002-03  Whole Year   3105.000000    Hectare    5267.000000   \n",
       "...         ...         ...           ...        ...            ...   \n",
       "345402  2019-20        Rabi  11670.191258    Hectare  958371.148664   \n",
       "345403  2019-20        Rabi  11670.191258    Hectare  958371.148664   \n",
       "345404  2019-20        Rabi  11670.191258    Hectare  958371.148664   \n",
       "345405  2019-20        Rabi  11670.191258    Hectare  958371.148664   \n",
       "345406  2019-20        Rabi  11670.191258    Hectare  958371.148664   \n",
       "\n",
       "       Production Units      Yield  Production_Tonnes  \n",
       "0                Tonnes   1.643541        2061.000000  \n",
       "1                Tonnes   1.655803        2083.000000  \n",
       "2                Tonnes   1.209358        1525.000000  \n",
       "3                Tonnes   1.690000        5239.000000  \n",
       "4                Tonnes   1.696296        5267.000000  \n",
       "...                 ...        ...                ...  \n",
       "345402           Tonnes  79.407569      958371.148664  \n",
       "345403           Tonnes  79.407569      958371.148664  \n",
       "345404           Tonnes  79.407569      958371.148664  \n",
       "345405           Tonnes  79.407569      958371.148664  \n",
       "345406           Tonnes  79.407569      958371.148664  \n",
       "\n",
       "[345407 rows x 11 columns]"
      ]
     },
     "execution_count": 62,
     "metadata": {},
     "output_type": "execute_result"
    }
   ],
   "source": [
    "df"
   ]
  },
  {
   "cell_type": "code",
   "execution_count": 22,
   "id": "8f5579bc",
   "metadata": {},
   "outputs": [
    {
     "data": {
      "text/plain": [
       "1597800000.0"
      ]
     },
     "execution_count": 22,
     "metadata": {},
     "output_type": "execute_result"
    }
   ],
   "source": [
    "df['Production'].max() - df['Production'].min()"
   ]
  },
  {
   "cell_type": "code",
   "execution_count": 23,
   "id": "e41c6647",
   "metadata": {},
   "outputs": [
    {
     "data": {
      "text/plain": [
       "456834056902104.56"
      ]
     },
     "execution_count": 23,
     "metadata": {},
     "output_type": "execute_result"
    }
   ],
   "source": [
    "df['Production'].var()"
   ]
  },
  {
   "cell_type": "code",
   "execution_count": 24,
   "id": "686676ed",
   "metadata": {},
   "outputs": [
    {
     "data": {
      "text/plain": [
       "21373676.72867971"
      ]
     },
     "execution_count": 24,
     "metadata": {},
     "output_type": "execute_result"
    }
   ],
   "source": [
    "df['Production'].std()"
   ]
  },
  {
   "cell_type": "code",
   "execution_count": 25,
   "id": "68f6b819",
   "metadata": {},
   "outputs": [
    {
     "name": "stdout",
     "output_type": "stream",
     "text": [
      "Q1: 90.0\n",
      "Q3: 8146.0\n",
      "IQR: 8056.0\n"
     ]
    }
   ],
   "source": [
    "# Calculate Q1 (25th percentile) and Q3 (75th percentile)\n",
    "Q1 = df['Production'].quantile(0.25)\n",
    "Q3 = df['Production'].quantile(0.75)\n",
    "\n",
    "# Calculate IQR\n",
    "IQR = Q3 - Q1\n",
    "\n",
    "print(f\"Q1: {Q1}\")\n",
    "print(f\"Q3: {Q3}\")\n",
    "print(f\"IQR: {IQR}\")\n"
   ]
  },
  {
   "cell_type": "code",
   "execution_count": 26,
   "id": "06237615",
   "metadata": {},
   "outputs": [
    {
     "name": "stdout",
     "output_type": "stream",
     "text": [
      "Number of outliers: 61987\n"
     ]
    },
    {
     "data": {
      "text/plain": [
       "283420"
      ]
     },
     "execution_count": 26,
     "metadata": {},
     "output_type": "execute_result"
    }
   ],
   "source": [
    "# Define outlier thresholds\n",
    "lower_bound = Q1 - 1.5 * IQR\n",
    "upper_bound = Q3 + 1.5 * IQR\n",
    "\n",
    "# Identify outliers\n",
    "outliers = df[(df['Production'] < lower_bound) | (df['Production'] > upper_bound)]\n",
    "\n",
    "print(f\"Number of outliers: {outliers.shape[0]}\")\n",
    "df['Production'].shape[0] - outliers.shape[0]"
   ]
  },
  {
   "cell_type": "code",
   "execution_count": 27,
   "id": "3e1a21f5",
   "metadata": {},
   "outputs": [],
   "source": [
    "good = df[(df['Production'] > lower_bound) & (df['Production'] < upper_bound)]"
   ]
  },
  {
   "cell_type": "code",
   "execution_count": 28,
   "id": "1aa535c2",
   "metadata": {},
   "outputs": [
    {
     "data": {
      "text/plain": [
       "283418"
      ]
     },
     "execution_count": 28,
     "metadata": {},
     "output_type": "execute_result"
    }
   ],
   "source": [
    "good['Production'].shape[0]"
   ]
  },
  {
   "cell_type": "code",
   "execution_count": 29,
   "id": "5c32b512",
   "metadata": {},
   "outputs": [
    {
     "data": {
      "text/plain": [
       "36.13710360089545"
      ]
     },
     "execution_count": 29,
     "metadata": {},
     "output_type": "execute_result"
    }
   ],
   "source": [
    "df['Production'].skew()"
   ]
  },
  {
   "cell_type": "code",
   "execution_count": null,
   "id": "0a915bcb",
   "metadata": {},
   "outputs": [],
   "source": []
  },
  {
   "cell_type": "code",
   "execution_count": 30,
   "id": "fc82290a",
   "metadata": {},
   "outputs": [
    {
     "name": "stdout",
     "output_type": "stream",
     "text": [
      "Covariance matrix:\n",
      "                           Area    Production         Yield  Production_Tonnes\n",
      "Area               2.100961e+09  4.748788e+10  1.790457e+04       4.748788e+10\n",
      "Production         4.748788e+10  4.568341e+14  8.568550e+09       4.568341e+14\n",
      "Yield              1.790457e+04  8.568550e+09  8.401280e+05       8.568550e+09\n",
      "Production_Tonnes  4.748788e+10  4.568341e+14  8.568550e+09       4.568341e+14\n"
     ]
    }
   ],
   "source": [
    "cov_matrix = df.cov()\n",
    "print(\"Covariance matrix:\")\n",
    "print(cov_matrix)"
   ]
  },
  {
   "cell_type": "code",
   "execution_count": 31,
   "id": "5fdff53c",
   "metadata": {},
   "outputs": [
    {
     "name": "stdout",
     "output_type": "stream",
     "text": [
      "\n",
      "Covariance between Area and Yield: 17904.567382325007\n"
     ]
    }
   ],
   "source": [
    "# Extract the covariance between Height and Weight\n",
    "cov_area_yield = cov_matrix.loc['Area', 'Yield']\n",
    "print(\"\\nCovariance between Area and Yield:\", cov_area_yield)"
   ]
  },
  {
   "cell_type": "code",
   "execution_count": 32,
   "id": "3b5ccef7",
   "metadata": {},
   "outputs": [
    {
     "name": "stdout",
     "output_type": "stream",
     "text": [
      "Corelation matrix:\n",
      "                       Area  Production     Yield  Production_Tonnes\n",
      "Area               1.000000    0.048472  0.000426           0.048472\n",
      "Production         0.048472    1.000000  0.437376           1.000000\n",
      "Yield              0.000426    0.437376  1.000000           0.437376\n",
      "Production_Tonnes  0.048472    1.000000  0.437376           1.000000\n"
     ]
    }
   ],
   "source": [
    "corr_matrix = df.corr()\n",
    "print(\"Corelation matrix:\")\n",
    "print(corr_matrix)"
   ]
  },
  {
   "cell_type": "code",
   "execution_count": 33,
   "id": "a65dc714",
   "metadata": {},
   "outputs": [
    {
     "name": "stdout",
     "output_type": "stream",
     "text": [
      "\n",
      "Coreltion between Area and Yield: 0.00042616929082565306\n"
     ]
    }
   ],
   "source": [
    "# Extract the covariance between Height and Weight\n",
    "corr_area_yield = corr_matrix.loc['Area', 'Yield']\n",
    "print(\"\\nCoreltion between Area and Yield:\", corr_area_yield)"
   ]
  },
  {
   "cell_type": "code",
   "execution_count": null,
   "id": "2b250488",
   "metadata": {},
   "outputs": [],
   "source": []
  },
  {
   "cell_type": "code",
   "execution_count": null,
   "id": "b8d7cab2",
   "metadata": {},
   "outputs": [],
   "source": []
  },
  {
   "cell_type": "code",
   "execution_count": null,
   "id": "9fca5613",
   "metadata": {},
   "outputs": [],
   "source": []
  },
  {
   "cell_type": "code",
   "execution_count": null,
   "id": "5da5e4c2",
   "metadata": {},
   "outputs": [],
   "source": []
  }
 ],
 "metadata": {
  "kernelspec": {
   "display_name": "Python 3 (ipykernel)",
   "language": "python",
   "name": "python3"
  },
  "language_info": {
   "codemirror_mode": {
    "name": "ipython",
    "version": 3
   },
   "file_extension": ".py",
   "mimetype": "text/x-python",
   "name": "python",
   "nbconvert_exporter": "python",
   "pygments_lexer": "ipython3",
   "version": "3.9.13"
  }
 },
 "nbformat": 4,
 "nbformat_minor": 5
}
